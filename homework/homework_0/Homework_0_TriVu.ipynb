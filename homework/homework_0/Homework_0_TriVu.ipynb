{
 "cells": [
  {
   "cell_type": "markdown",
   "metadata": {},
   "source": [
    "# Introduction\n",
    "\n",
    "Demonstrate your skill of markdown  \n",
    "**[markdown cheat sheet](https://github.com/adam-p/markdown-here/wiki/Markdown-Cheatsheet)**\n",
    "\n",
    "# This is big\n",
    "## This is slightly smaller\n",
    "### This is small\n",
    "#### This is even smaller than small"
   ]
  },
  {
   "cell_type": "markdown",
   "metadata": {},
   "source": [
    "### About me\n",
    "\n",
    "My name is Tri Vu. I'm a 1st-year PhD student in Dr. Junjie's Photoacoustic Lab. \n"
   ]
  },
  {
   "cell_type": "markdown",
   "metadata": {},
   "source": [
    "### My Hobbies Ranked\n",
    "\n",
    "1. Video games\n",
    "2. Soccer\n",
    "3. Playing guitar"
   ]
  },
  {
   "cell_type": "markdown",
   "metadata": {},
   "source": [
    "```python\n",
    "def fibonacci(n):\n",
    "    # pseudo code printing the fibonacci sequence in markdown \n",
    "    # Initialize fibonacci sequency\n",
    "    f = [0, 1]\n",
    "    markdown = ''\n",
    "    for i in range(2, n+1):\n",
    "        f = np.append(f,f[i-1]+f[i-2])  # Calculate the current fibonacci number and append it to the sequence\n",
    "        markdown = markdown + '#'\n",
    "        print(markdown + ' ' + str(f[i-1]+f[i-2]))\n",
    "```"
   ]
  },
  {
   "cell_type": "code",
   "execution_count": 17,
   "metadata": {},
   "outputs": [
    {
     "name": "stdout",
     "output_type": "stream",
     "text": [
      "# 1\n",
      "## 2\n",
      "### 3\n",
      "#### 5\n",
      "##### 8\n",
      "###### 13\n",
      "####### 21\n",
      "######## 34\n",
      "######### 55\n"
     ]
    }
   ],
   "source": [
    "# See if it works in python3 (doesn't have to)\n",
    "import numpy as np\n",
    "def fibonacci(n):\n",
    "    # pseudo code printing the fibonacci sequence in markdown \n",
    "    # Initialize fibonacci sequency\n",
    "    f = [0, 1]\n",
    "    markdown = ''\n",
    "    for i in range(2, n+1):\n",
    "        f = np.append(f,f[i-1]+f[i-2])  # Calculate the current fibonacci number and append it to the sequence\n",
    "        markdown = markdown + '#'\n",
    "        print(markdown + ' ' + str(f[i-1]+f[i-2]))\n",
    "        \n",
    "fibonacci(10)"
   ]
  },
  {
   "cell_type": "markdown",
   "metadata": {},
   "source": [
    "# Link your favorite Youtube video\n",
    "\n",
    "<a href=\"https://www.youtube.com/watch?v=IwzUs1IMdyQ\n",
    "\" target=\"_blank\"><img src=\"http://img.youtube.com/vi/IwzUs1IMdyQ/0.jpg\" \n",
    "alt=\"IMAGE ALT TEXT HERE\" width=\"240\" height=\"180\" border=\"10\" /></a>"
   ]
  }
 ],
 "metadata": {
  "kernelspec": {
   "display_name": "Python 3",
   "language": "python",
   "name": "python3"
  },
  "language_info": {
   "codemirror_mode": {
    "name": "ipython",
    "version": 3
   },
   "file_extension": ".py",
   "mimetype": "text/x-python",
   "name": "python",
   "nbconvert_exporter": "python",
   "pygments_lexer": "ipython3",
   "version": "3.7.1"
  }
 },
 "nbformat": 4,
 "nbformat_minor": 2
}
